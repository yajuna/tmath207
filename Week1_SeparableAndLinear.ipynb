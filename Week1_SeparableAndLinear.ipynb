{
  "nbformat": 4,
  "nbformat_minor": 0,
  "metadata": {
    "colab": {
      "provenance": [],
      "include_colab_link": true
    },
    "kernelspec": {
      "name": "python3",
      "display_name": "Python 3"
    },
    "language_info": {
      "name": "python"
    }
  },
  "cells": [
    {
      "cell_type": "markdown",
      "metadata": {
        "id": "view-in-github",
        "colab_type": "text"
      },
      "source": [
        "<a href=\"https://colab.research.google.com/github/yajuna/tmath207/blob/master/Week1_SeparableAndLinear.ipynb\" target=\"_parent\"><img src=\"https://colab.research.google.com/assets/colab-badge.svg\" alt=\"Open In Colab\"/></a>"
      ]
    },
    {
      "cell_type": "markdown",
      "source": [
        "# In this example, we look at a nonlinear differential equation, and plot a few solutions based on different initial conditions.\n",
        "\n",
        "Consider $\\frac{dy}{dx}=-\\frac{x}{y}$, with $y(1)=y_0$.\n",
        "\n",
        "Rewriting the equation as $ydy=-xdx$ we get\n",
        "\n",
        "$\\int ydy=\\int-xdx$,and the general solution is $x^2+y^2=c$. Sovling $c$ with the initial condition gives\n",
        "\n",
        "$c = 1 + y_0^2$"
      ],
      "metadata": {
        "id": "T_9aR92XZw0C"
      }
    },
    {
      "cell_type": "code",
      "execution_count": null,
      "metadata": {
        "id": "LzSonKy4ZPwm"
      },
      "outputs": [],
      "source": [
        "# import libraries\n",
        "import numpy as np\n",
        "import matplotlib.pyplot as plt\n",
        "import sympy as sym\n",
        "from sympy import var, plot_implicit, Eq, symbols, Function, dsolve, Derivative, Rational, simplify,solve\n",
        "from sympy.plotting import plot"
      ]
    },
    {
      "cell_type": "markdown",
      "source": [
        "## Pick a few different values of $y_0$ and plot the solutions."
      ],
      "metadata": {
        "id": "h_yxNtTvbrOV"
      }
    },
    {
      "cell_type": "code",
      "source": [
        "y0 = 1\n",
        "c = 1 + y0**2"
      ],
      "metadata": {
        "id": "5c3LCUDFb-lr"
      },
      "execution_count": null,
      "outputs": []
    },
    {
      "cell_type": "markdown",
      "source": [
        "## We plot the solutions below using the `plot_implicit` function in SymPy.\n",
        "\n",
        "We first declare the variables x and y by `var('x, y')`, we then plot the function defined implicitly by equation $x^2+y^2=c$ by using `Eq(x**2 + y**2, c)` as input for `plot_implicit`.\n",
        "\n",
        "Notice, that the plot_implicit function has a couple arguments after `Eq(x**2 + y**2, c)`. The first is `(x, -3.5, 3.5)` which fixes the x-axis on the following interval `[-3.5, 3.5]`. Similarly, `(y, -3.5, 3.5)` fixes the y-axis on the interval `[-3.5, 3.5]`.\n",
        "\n",
        "We also included the options `show=False` and `aspect_ratio=(1,1)`.\n",
        "\n",
        "Per the sympy [documentation](https://docs.sympy.org/latest/modules/plotting.html),\n",
        "\n",
        "**show=TRUE or FALSE** which tells the the sympy library to not show the graph and we can do it manually with `.show()`.\n",
        "\n",
        "**aspect_ratio=(FLOAT, FLOAT) or {'auto'}** which fixes a ratio on the graph."
      ],
      "metadata": {
        "id": "aVnM7GmqfCXv"
      }
    },
    {
      "cell_type": "code",
      "source": [
        "var('x, y')\n",
        "# we define the variable general_plot that will be used to display our function x**2 + y**2 = c based on different values of c.\n",
        "general_plot = plot_implicit(Eq(x**2 + y**2, 2 # c = 2\n",
        "                                ), (x, -3.5, 3.5), (y, -3.5, 3.5), show=False, aspect_ratio=(1,1), line_color=\"green\")\n",
        "\n",
        "for c in range(3,10):\n",
        "    # for every iteration we are appending a graph created with plot_implicit to general_plot\n",
        "    general_plot.append(plot_implicit(Eq(x**2 + y**2, c), show=False, line_color=\"green\")[0])\n",
        "# general_plot.show() will plot all the graphs in one figure.\n",
        "general_plot.show()\n",
        "# two things to fix/imporve: plot all images in one figure; change the ratio of picture DONE"
      ],
      "metadata": {
        "id": "-yJU2T1Xb3ej"
      },
      "execution_count": null,
      "outputs": []
    },
    {
      "cell_type": "markdown",
      "source": [
        "### Exercise:\n",
        "Solve the differential equation $(e^{2y}-y)\\cos(x)\\frac{dy}{dx}=e^y\\sin(2x)$, with $y(0)=0$, then plot the solution using code similar to the above cell.\n",
        "\n",
        "Hint: exponential functions in SymPy is `sym.exp()`; cosine function in SymPy is `sym.cos()`."
      ],
      "metadata": {
        "id": "ZzJVEcdKfouT"
      }
    },
    {
      "cell_type": "code",
      "source": [],
      "metadata": {
        "id": "kQoAZhdCcLRv"
      },
      "execution_count": null,
      "outputs": []
    },
    {
      "cell_type": "markdown",
      "source": [
        "## `SymPy` also has a function for solving differential equations. We explore the function `sym.olvers.ode.dsolve` here."
      ],
      "metadata": {
        "id": "7VrFjSqmh94f"
      }
    },
    {
      "cell_type": "markdown",
      "source": [
        "### Example\n",
        "Here we solve the differential equation\n",
        "\n",
        "$y''+2y'+y=0$, where $y$ is a function of $t$. We define the derivatives by using `diff`, and solve the differential equation by using `dsolve`, for `y`."
      ],
      "metadata": {
        "id": "B_U92zYMkHj9"
      }
    },
    {
      "cell_type": "code",
      "source": [
        "t = symbols('t')\n",
        "y = Function('y')(t)\n",
        "\n",
        "yp = y.diff(t)\n",
        "ypp = yp.diff(t)\n",
        "eq = ypp + 2*yp + y\n",
        "\n",
        "print(eq)\n",
        "dsolve(eq,y)"
      ],
      "metadata": {
        "id": "r7brZAmzjPiu"
      },
      "execution_count": null,
      "outputs": []
    },
    {
      "cell_type": "markdown",
      "source": [
        "### Exercise\n",
        "\n",
        "Run the code that uses the above symbolic method to solve the following equation\n",
        "\n",
        "$\\frac{dy}{dx}=xy^2-\\frac{y}{x}-\\frac{20}{x^3}$"
      ],
      "metadata": {
        "id": "nA6ia1mzkyiZ"
      }
    },
    {
      "cell_type": "code",
      "source": [
        "x = symbols('x')\n",
        "y = Function('y')(x)\n",
        "yp = y.diff(x)\n",
        "eq = Eq(yp,x*y**2 - (y/x) - (20/x**3))\n",
        "eq\n",
        "dsolve(eq)"
      ],
      "metadata": {
        "id": "N5nnOWOAlDPA"
      },
      "execution_count": null,
      "outputs": []
    },
    {
      "cell_type": "markdown",
      "source": [
        "### Exercise\n",
        "Write your own first order equation and solve using above methods."
      ],
      "metadata": {
        "id": "4SQLB4naJ7pD"
      }
    },
    {
      "cell_type": "code",
      "source": [],
      "metadata": {
        "id": "9rtrKgoMKCAY"
      },
      "execution_count": null,
      "outputs": []
    },
    {
      "cell_type": "markdown",
      "source": [
        "# Population Models: Logistic Model\n",
        "## Graphing Solution Curves\n",
        "# We can graph solutions curves for the logistic equation:\n",
        "$\\frac{dP}{dt}=0.06P-0.0004P^2$"
      ],
      "metadata": {
        "id": "KRRKpKla7lbR"
      }
    },
    {
      "cell_type": "code",
      "source": [
        "t = symbols('t') # time in years\n",
        "P_0 = symbols('P_0') # initial population\n",
        "P = Function('P')(t) # function\n",
        "\n",
        "C = [300, 240, 210, 180, 165, 150, 130, 120, 100, 80, 60] # P_0 = C\n",
        "diff_equation = 150*P_0 / (P_0 + (150 - P_0) * sym.exp(-0.06*t)) # solved solution\n",
        "init_condition = Eq(diff_equation.subs(t, 0), 150) # P_0 = 150 substitutes t with 0 and sets diff_equation = to 150 when t is 0.\n",
        "P_0_value = solve(init_condition, P_0)[0] # when t = 0 and P(0) = 150 it finds the values of P_0.\n",
        "\n",
        "plot_general = plot(diff_equation.subs(P_0, C[0]), (t, 0, 100), xlim=[0, 100], ylim=[0,300], ylabel='P(t)', xlabel='Years (t)',show=False, axis_center=(0,0))\n",
        "for i in range(1, len(C)):\n",
        "  plot_general.append(plot(diff_equation.subs(P_0, C[i]), (t, 0, 100), show=False)[0])\n",
        "plot_general.show()"
      ],
      "metadata": {
        "id": "S9Ouhtpb3vQU"
      },
      "execution_count": null,
      "outputs": []
    },
    {
      "cell_type": "markdown",
      "source": [
        "### Note that not all equations can be solved using the symbolic method. An example is the Riccati equation\n",
        "\n",
        "$dy/dt = t^2+y^2$\n",
        "\n",
        "Test with the symbolic method, and you will see an error."
      ],
      "metadata": {
        "id": "OcaW4aTeKMqt"
      }
    }
  ]
}