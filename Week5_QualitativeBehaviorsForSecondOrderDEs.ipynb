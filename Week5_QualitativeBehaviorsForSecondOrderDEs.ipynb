{
  "nbformat": 4,
  "nbformat_minor": 0,
  "metadata": {
    "colab": {
      "provenance": [],
      "include_colab_link": true
    },
    "kernelspec": {
      "name": "python3",
      "display_name": "Python 3"
    },
    "language_info": {
      "name": "python"
    }
  },
  "cells": [
    {
      "cell_type": "markdown",
      "metadata": {
        "id": "view-in-github",
        "colab_type": "text"
      },
      "source": [
        "<a href=\"https://colab.research.google.com/github/yajuna/tmath207/blob/master/Week5_QualitativeBehaviorsForSecondOrderDEs.ipynb\" target=\"_parent\"><img src=\"https://colab.research.google.com/assets/colab-badge.svg\" alt=\"Open In Colab\"/></a>"
      ]
    },
    {
      "cell_type": "markdown",
      "source": [
        "# In this notebook we change the parameters in a second order, constant coefficient, homogeneous problem, and see how the solutions behave as these parameters vary.\n",
        "\n",
        "The initial value problem considered is of the form\n",
        "\n",
        "$y''+py'+qy=0$ with initial conditions\n",
        "\n",
        "$y(0)=\\alpha$, $y'(0)=\\beta$.\n",
        "\n",
        "If the characterisc equation has repeated roots $r$, the solution looks like\n",
        "\n",
        "$y(t) = \\alpha e^{rt} + (\\beta + \\alpha p /2)te^{rt}$\n",
        "\n",
        "with $r=-p/2$\n",
        "\n",
        "Otherwise the solution looks like\n",
        "\n",
        "$y(t) = \\frac{\\beta-\\alpha r_2}{r_1 - r_2} e^{r_1t} + \\frac{\\alpha r_1 - \\beta}{r_1 - r_2}e^{r_2t}$\n",
        "\n",
        "with $r_1 = \\frac{-p+\\sqrt{p^2-4q}}{2}$ and $r_2 = \\frac{-p-\\sqrt{p^2-4q}}{2}$\n",
        "\n",
        "In particular, if the roots are complex conjugate, we simplify the solution to be:\n",
        "\n",
        "$y(t) = C_1 e^{-p/2t}\\cos(\\frac{t\\sqrt{4q-p^2}}{2}) + C_2e^{-p/2t}\\sin(\\frac{t\\sqrt{4q-p^2}}{2})$\n"
      ],
      "metadata": {
        "id": "sNOXeUUfTxdq"
      }
    },
    {
      "cell_type": "code",
      "execution_count": null,
      "metadata": {
        "id": "m1oARLpPOOi6"
      },
      "outputs": [],
      "source": [
        "import numpy as np\n",
        "import matplotlib.pyplot as plt\n",
        "from sympy import symbols, Function, Eq, dsolve, Derivative, simplify, E, Symbol"
      ]
    },
    {
      "cell_type": "code",
      "source": [
        "## hyperparameters for visualization\n",
        "N = 40000\n",
        "endt = 4\n",
        "t = np.linspace(0,endt,num = N, endpoint = False)"
      ],
      "metadata": {
        "id": "wo-cUtnaiIgc"
      },
      "execution_count": null,
      "outputs": []
    },
    {
      "cell_type": "code",
      "source": [
        "def solutions(p, q, alpha, beta):\n",
        "  if p**2 - 4 * q == 0:\n",
        "    y1 = np.exp(-p/2 * t)\n",
        "    y2 = t * y1\n",
        "    y = alpha * y1 + (beta + alpha * p/2) *y2\n",
        "\n",
        "  elif p**2 - 4 * q > 0:\n",
        "    r1 = (-p + np.sqrt(p**2 - 4 * q))/2\n",
        "    r2 = (-p - np.sqrt(p**2 - 4 * q))/2\n",
        "    y1 = np.exp(r1 * t)\n",
        "    y2 = np.exp(r2 * t)\n",
        "    y = ((beta -alpha * r2)/(r1 - r2)) * y1 + ((alpha * r1 - beta)/(r1 - r2)) * y2\n",
        "\n",
        "  else:\n",
        "    y1 = np.exp(-p/2*t)*np.cos((t*np.sqrt(4*q - p**2))/2)\n",
        "    y2 = np.exp(-p/2*t)*np.sin((t*np.sqrt(4*q - p**2))/2)\n",
        "    y = alpha * np.exp(-p/2*t)*np.cos((t*np.sqrt(4*q - p**2))/2) + ((2 * beta + alpha * p)/(np.sqrt(4 * q - p**2))) * np.exp(-p/2*t)*np.sin((t*np.sqrt(4*q - p**2))/2)\n",
        "\n",
        "  return y1, y2, y"
      ],
      "metadata": {
        "id": "QqtKu0uJboWY"
      },
      "execution_count": null,
      "outputs": []
    },
    {
      "cell_type": "markdown",
      "source": [
        "## Visualization\n",
        "\n",
        "Here we plot three curves to show the solution:\n",
        "\n",
        "1. $y_1$ and $y_2$: the fundamental set of solutions respectively\n",
        "\n",
        "2. the solution of the initial value problem to see the summed behavior of the IVP"
      ],
      "metadata": {
        "id": "5GFnwkkpWZXz"
      }
    },
    {
      "cell_type": "markdown",
      "source": [
        "### Exercise:\n",
        "\n",
        "Plot the solutions by running the code below and test a few parameters other than the ones provided."
      ],
      "metadata": {
        "id": "YdkYs90LeZDB"
      }
    },
    {
      "cell_type": "code",
      "source": [
        "\n",
        "\n",
        "# p, q, alpha, beta = 3, 2, 1, 1 # real distinct\n",
        "# p, q, alpha, beta = 2, 1, 1, 1 # repeated\n",
        "p, q, alpha, beta = 2, 2, 1, 1 # complex conjugate\n",
        "\n",
        "y1, y2, y = solutions(p, q, alpha, beta)\n",
        "\n",
        "####### Plot solution curves\n",
        "line1 = plt.plot(t,y1,'k',label=\"$y_1$\") #\n",
        "line2 = plt.plot(t,y2,'b',label=\"$y_2$\") #\n",
        "line = plt.plot(t,y,'r',label=\"$y_{ivp}$\") #\n",
        "plt.legend(bbox_to_anchor=(0., 1.02, 1., .102), loc = 3,\n",
        "          ncol = 3, mode=\"expand\", borderaxespad = -0.2)\n",
        "plt.legend(loc = 'upper right')\n",
        "plt.title(\"Solutions to the PDE and IVP\")\n",
        "\n",
        "plt.ylabel('$solutions$')\n",
        "plt.xlabel('$y$')\n",
        "plt.show()"
      ],
      "metadata": {
        "id": "uo4lQMfGWbz1"
      },
      "execution_count": null,
      "outputs": []
    }
  ]
}