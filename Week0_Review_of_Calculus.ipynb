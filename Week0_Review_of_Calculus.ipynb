{
  "nbformat": 4,
  "nbformat_minor": 0,
  "metadata": {
    "colab": {
      "provenance": [],
      "authorship_tag": "ABX9TyO//YzlHWXgVqGqJllMq2Lk",
      "include_colab_link": true
    },
    "kernelspec": {
      "name": "python3",
      "display_name": "Python 3"
    },
    "language_info": {
      "name": "python"
    }
  },
  "cells": [
    {
      "cell_type": "markdown",
      "metadata": {
        "id": "view-in-github",
        "colab_type": "text"
      },
      "source": [
        "<a href=\"https://colab.research.google.com/github/yajuna/tmath207/blob/master/Week0_Review_of_Calculus.ipynb\" target=\"_parent\"><img src=\"https://colab.research.google.com/assets/colab-badge.svg\" alt=\"Open In Colab\"/></a>"
      ]
    },
    {
      "cell_type": "markdown",
      "source": [
        "# This notebook is a computational review of calculus concepts used in the differential equations class.\n",
        "\n",
        "You will also familirize yourself with Python, as well as Jupyter notebook markdown."
      ],
      "metadata": {
        "id": "gZvOb0T0B4LR"
      }
    },
    {
      "cell_type": "markdown",
      "source": [
        "### A notebook usually starts with importing libraries. For computational math, we usually import ``NumPy``, ``SciPy``, and ``Matplotlib`` for math and visualization. In this notebook, we will also import the symbolic Python library ``SymPy`` for indefinite integrals.\n",
        "\n",
        "It is a good practice to also be aware of the version of your softwares and libraries, as this might help with debuggind due to version conflicts."
      ],
      "metadata": {
        "id": "ZAJfYJxwKFGA"
      }
    },
    {
      "cell_type": "code",
      "execution_count": null,
      "metadata": {
        "colab": {
          "base_uri": "https://localhost:8080/"
        },
        "id": "Hd6XB2w3BsYA",
        "outputId": "70df0f7e-f787-4ba8-a57d-af6f5845e511"
      },
      "outputs": [
        {
          "output_type": "stream",
          "name": "stdout",
          "text": [
            "Python 3 version is 3.11.11 (main, Dec  4 2024, 08:55:07) [GCC 11.4.0]\n",
            "NumPy version is 2.0.2\n",
            "SciPy version is 1.14.1\n",
            "Matplotlib version is 3.10.0\n",
            "SymPy version is 1.13.1\n"
          ]
        }
      ],
      "source": [
        "import numpy as np\n",
        "import scipy as sp\n",
        "import matplotlib.pyplot as plt\n",
        "\n",
        "import sympy as sym\n",
        "\n",
        "import sys\n",
        "print(\"Python 3 version is\", sys.version)\n",
        "print(\"NumPy version is\", np.__version__)\n",
        "print(\"SciPy version is\", sp.__version__)\n",
        "import matplotlib\n",
        "print(\"Matplotlib version is\", matplotlib.__version__)\n",
        "import sympy\n",
        "print(\"SymPy version is\", sympy.__version__)"
      ]
    },
    {
      "cell_type": "code",
      "source": [
        "# define print format\n",
        "sym.init_printing(use_unicode=False, wrap_line=True)"
      ],
      "metadata": {
        "id": "7qDefjfNqDyt"
      },
      "execution_count": null,
      "outputs": []
    },
    {
      "cell_type": "markdown",
      "source": [
        "Very often students need reviews for integration. After integrating functions by hand, you can test your results using the ``integrate`` function in SymPy.\n",
        "\n",
        "An example is to integrate the function $x^2$ as a function of $x$. Note that SymPy does not add $C$ for you!"
      ],
      "metadata": {
        "id": "el9Xs8dAmaN4"
      }
    },
    {
      "cell_type": "code",
      "source": [
        "# declare symbolic variable explicitly\n",
        "x = sym.Symbol('x')\n",
        "\n",
        "sym.integrate(x**2,x)"
      ],
      "metadata": {
        "colab": {
          "base_uri": "https://localhost:8080/",
          "height": 54
        },
        "id": "Aw-d6Ly0p7Yo",
        "outputId": "4e4fae85-f2f2-481d-c4d8-9a98218f5fed"
      },
      "execution_count": null,
      "outputs": [
        {
          "output_type": "execute_result",
          "data": {
            "text/plain": [
              " 3\n",
              "x \n",
              "--\n",
              "3 "
            ],
            "text/latex": "$\\displaystyle \\frac{x^{3}}{3}$"
          },
          "metadata": {},
          "execution_count": 5
        }
      ]
    },
    {
      "cell_type": "markdown",
      "source": [
        "We can compute indefinite integral as well as definite integral.\n",
        "\n",
        "As an example, we integrate $x^{-1}$ as a function of $x$; then we compute $\\int^3_1 x^{-1} dx$."
      ],
      "metadata": {
        "id": "c0qX3P66qsqU"
      }
    },
    {
      "cell_type": "code",
      "source": [
        "sym.integrate(x**-1,x)"
      ],
      "metadata": {
        "colab": {
          "base_uri": "https://localhost:8080/",
          "height": 39
        },
        "id": "OxKKk8xbqlPd",
        "outputId": "a70e805c-16f4-4d42-de02-f6e495eeb081"
      },
      "execution_count": null,
      "outputs": [
        {
          "output_type": "execute_result",
          "data": {
            "text/plain": [
              "log(x)"
            ],
            "text/latex": "$\\displaystyle \\log{\\left(x \\right)}$"
          },
          "metadata": {},
          "execution_count": 6
        }
      ]
    },
    {
      "cell_type": "code",
      "source": [
        "sym.integrate(x**-1,(x,1,3))"
      ],
      "metadata": {
        "colab": {
          "base_uri": "https://localhost:8080/",
          "height": 37
        },
        "id": "tCor5QH0rDxp",
        "outputId": "e8a53076-b6c0-4686-978c-cee30e218fe7"
      },
      "execution_count": null,
      "outputs": [
        {
          "output_type": "execute_result",
          "data": {
            "text/plain": [
              "log(3)"
            ],
            "text/latex": "$\\displaystyle \\log{\\left(3 \\right)}$"
          },
          "metadata": {},
          "execution_count": 7
        }
      ]
    },
    {
      "cell_type": "markdown",
      "source": [
        "This can be especially helpful if you need to check a complicated indefinite integral. As an example, we compute\n",
        "$\\int xlog(x) dx$ (which is done using Integration by Parts). Note that since log function is called from the SymPy library, we need to add prefix ``sym.`` to log."
      ],
      "metadata": {
        "id": "p4zF7vFnrXgP"
      }
    },
    {
      "cell_type": "code",
      "source": [
        "sym.integrate(x * sym.log(x), x)"
      ],
      "metadata": {
        "colab": {
          "base_uri": "https://localhost:8080/",
          "height": 54
        },
        "id": "0ad4nIuLr_ta",
        "outputId": "e18b60dd-170e-4c4f-9922-cabf652be466"
      },
      "execution_count": null,
      "outputs": [
        {
          "output_type": "execute_result",
          "data": {
            "text/plain": [
              " 2           2\n",
              "x *log(x)   x \n",
              "--------- - --\n",
              "    2       4 "
            ],
            "text/latex": "$\\displaystyle \\frac{x^{2} \\log{\\left(x \\right)}}{2} - \\frac{x^{2}}{4}$"
          },
          "metadata": {},
          "execution_count": 9
        }
      ]
    },
    {
      "cell_type": "markdown",
      "source": [
        "### Exercise:\n",
        "\n",
        "1. Write your own code to find the indefinite integral $\\int x\\cos(x) dx$\n",
        "\n",
        "2. Write your own code to find the definite integral $\\int^5_3\\frac{1}{x^2+1} dx$"
      ],
      "metadata": {
        "id": "6CxZAVUxsl_m"
      }
    },
    {
      "cell_type": "code",
      "source": [
        "# Enter your code here"
      ],
      "metadata": {
        "id": "pp5PfcaftLDD"
      },
      "execution_count": null,
      "outputs": []
    },
    {
      "cell_type": "markdown",
      "source": [
        "The main reference for this notebook are this [lectures](https://scipy-lectures.org/packages/sympy.html#using-sympy-as-a-calculator) and this [documentation](https://docs.sympy.org/latest/modules/integrals/integrals.html#sympy.integrals.transforms.laplace_transform)\n",
        "\n"
      ],
      "metadata": {
        "id": "YmoDnViHtNao"
      }
    },
    {
      "cell_type": "markdown",
      "source": [
        "### Exercise:\n",
        "\n",
        "Read the lectures, and write your own code to compute the _improper integral_ $\\int^{\\infty}_0 \\frac{1}{x^2+1} dx$"
      ],
      "metadata": {
        "id": "yE26A46Qt_2j"
      }
    },
    {
      "cell_type": "code",
      "source": [
        "# Enter your code here"
      ],
      "metadata": {
        "colab": {
          "base_uri": "https://localhost:8080/",
          "height": 47
        },
        "id": "W0WPBu2itq_R",
        "outputId": "abbb483b-4507-40c9-dd24-40cddc8b1ef4"
      },
      "execution_count": null,
      "outputs": [
        {
          "output_type": "execute_result",
          "data": {
            "text/plain": [
              "pi\n",
              "--\n",
              "2 "
            ],
            "text/latex": "$\\displaystyle \\frac{\\pi}{2}$"
          },
          "metadata": {},
          "execution_count": 10
        }
      ]
    },
    {
      "cell_type": "markdown",
      "source": [
        "### Exercise:\n",
        "\n",
        "Read the lectures, and run the following code that computes the limit $\\lim_{x\\to\\infty}\\frac{\\int x^2 dx}{x^3}dx$. How do you compute this limit by hand? Did you get the same result?"
      ],
      "metadata": {
        "id": "Z-J9ChtbuPm7"
      }
    },
    {
      "cell_type": "code",
      "source": [
        "sym.limit(sym.integrate(x**2,x)/x**3 , x, sym.oo)"
      ],
      "metadata": {
        "colab": {
          "base_uri": "https://localhost:8080/",
          "height": 51
        },
        "id": "OVwBQCsfvCJS",
        "outputId": "7b30d392-5d31-4688-f27a-325d8d3f36da"
      },
      "execution_count": null,
      "outputs": [
        {
          "output_type": "execute_result",
          "data": {
            "text/plain": [
              "1/3"
            ],
            "text/latex": "$\\displaystyle \\frac{1}{3}$"
          },
          "metadata": {},
          "execution_count": 11
        }
      ]
    }
  ]
}