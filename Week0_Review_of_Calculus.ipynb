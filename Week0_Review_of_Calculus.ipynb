{
  "nbformat": 4,
  "nbformat_minor": 0,
  "metadata": {
    "colab": {
      "provenance": [],
      "authorship_tag": "ABX9TyOH8JhJWOPdOW5+y5rTP/gp",
      "include_colab_link": true
    },
    "kernelspec": {
      "name": "python3",
      "display_name": "Python 3"
    },
    "language_info": {
      "name": "python"
    }
  },
  "cells": [
    {
      "cell_type": "markdown",
      "metadata": {
        "id": "view-in-github",
        "colab_type": "text"
      },
      "source": [
        "<a href=\"https://colab.research.google.com/github/yajuna/tmath207/blob/master/Week0_Review_of_Calculus.ipynb\" target=\"_parent\"><img src=\"https://colab.research.google.com/assets/colab-badge.svg\" alt=\"Open In Colab\"/></a>"
      ]
    },
    {
      "cell_type": "markdown",
      "source": [
        "# This notebook is a computational review of calculus concepts used in the differential equations class.\n",
        "\n",
        "You will also familirize yourself with Python, as well as Jupyter notebook markdown."
      ],
      "metadata": {
        "id": "gZvOb0T0B4LR"
      }
    },
    {
      "cell_type": "markdown",
      "source": [
        "### A notebook usually starts with importing libraries. For computational math, we usually import ``NumPy``, ``SciPy``, and ``Matplotlib`` for math and visualization. In this notebook, we will also import the symbolic Python library ``SymPy`` for indefinite integrals.\n",
        "\n",
        "It is a good practice to also be aware of the version of your softwares and libraries, as this might help with debuggind due to version conflicts."
      ],
      "metadata": {
        "id": "ZAJfYJxwKFGA"
      }
    },
    {
      "cell_type": "code",
      "execution_count": null,
      "metadata": {
        "id": "Hd6XB2w3BsYA"
      },
      "outputs": [],
      "source": [
        "import numpy as np\n",
        "import scipy as sp\n",
        "import matplotlib.pyplot as plt\n",
        "\n",
        "import sympy as sym\n",
        "\n",
        "import sys\n",
        "print(\"Python 3 version is\", sys.version)\n",
        "print(\"NumPy version is\", np.__version__)\n",
        "print(\"SciPy version is\", sp.__version__)\n",
        "import matplotlib\n",
        "print(\"Matplotlib version is\", matplotlib.__version__)\n",
        "import sympy\n",
        "print(\"SymPy version is\", sympy.__version__)"
      ]
    },
    {
      "cell_type": "code",
      "source": [
        "# define print format\n",
        "sym.init_printing(use_unicode=False, wrap_line=True)"
      ],
      "metadata": {
        "id": "7qDefjfNqDyt"
      },
      "execution_count": null,
      "outputs": []
    },
    {
      "cell_type": "markdown",
      "source": [
        "Very often students need reviews for integration. After integrating functions by hand, you can test your results using the ``integrate`` function in SymPy.\n",
        "\n",
        "An example is to integrate the function $x^2$ as a function of $x$. Note that SymPy does not add $C$ for you!"
      ],
      "metadata": {
        "id": "el9Xs8dAmaN4"
      }
    },
    {
      "cell_type": "code",
      "source": [
        "# declare symbolic variable explicitly\n",
        "x = sym.Symbol('x')\n",
        "\n",
        "sym.integrate(x**2,x)"
      ],
      "metadata": {
        "id": "Aw-d6Ly0p7Yo"
      },
      "execution_count": null,
      "outputs": []
    },
    {
      "cell_type": "markdown",
      "source": [
        "We can compute indefinite integral as well as definite integral.\n",
        "\n",
        "As an example, we integrate $x^{-1}$ as a function of $x$; then we compute $\\int^3_1 x^{-1} dx$."
      ],
      "metadata": {
        "id": "c0qX3P66qsqU"
      }
    },
    {
      "cell_type": "code",
      "source": [
        "sym.integrate(x**-1,x)"
      ],
      "metadata": {
        "id": "OxKKk8xbqlPd"
      },
      "execution_count": null,
      "outputs": []
    },
    {
      "cell_type": "code",
      "source": [
        "sym.integrate(x**-1,(x,1,3))"
      ],
      "metadata": {
        "id": "tCor5QH0rDxp"
      },
      "execution_count": null,
      "outputs": []
    },
    {
      "cell_type": "markdown",
      "source": [
        "This can be especially helpful if you need to check a complicated indefinite integral. As an example, we compute\n",
        "$\\int xlog(x) dx$ (which is done using Integration by Parts). Note that since log function is called from the SymPy library, we need to add prefix ``sym.`` to log."
      ],
      "metadata": {
        "id": "p4zF7vFnrXgP"
      }
    },
    {
      "cell_type": "code",
      "source": [
        "sym.integrate(x * sym.log(x), x)"
      ],
      "metadata": {
        "id": "0ad4nIuLr_ta"
      },
      "execution_count": null,
      "outputs": []
    },
    {
      "cell_type": "markdown",
      "source": [
        "### Exercise:\n",
        "\n",
        "1. Write your own code to find the indefinite integral $\\int x\\cos(x) dx$\n",
        "\n",
        "2. Write your own code to find the definite integral $\\int^5_3\\frac{1}{x^2+1} dx$"
      ],
      "metadata": {
        "id": "6CxZAVUxsl_m"
      }
    },
    {
      "cell_type": "code",
      "source": [
        "# Enter your code here"
      ],
      "metadata": {
        "id": "pp5PfcaftLDD"
      },
      "execution_count": null,
      "outputs": []
    },
    {
      "cell_type": "markdown",
      "source": [
        "The main reference for this notebook are this [lectures](https://scipy-lectures.org/packages/sympy.html#using-sympy-as-a-calculator) and this [documentation](https://docs.sympy.org/latest/modules/integrals/integrals.html#sympy.integrals.transforms.laplace_transform)\n",
        "\n"
      ],
      "metadata": {
        "id": "YmoDnViHtNao"
      }
    },
    {
      "cell_type": "markdown",
      "source": [
        "### Exercise:\n",
        "\n",
        "Read the lectures, and write your own code to compute the _improper integral_ $\\int^{\\infty}_0 \\frac{1}{x^2+1} dx$"
      ],
      "metadata": {
        "id": "yE26A46Qt_2j"
      }
    },
    {
      "cell_type": "code",
      "source": [
        "# Enter your code here"
      ],
      "metadata": {
        "id": "W0WPBu2itq_R"
      },
      "execution_count": null,
      "outputs": []
    },
    {
      "cell_type": "markdown",
      "source": [
        "### Exercise:\n",
        "\n",
        "Read the lectures, and run the following code that computes the limit $\\lim_{x\\to\\infty}\\frac{\\int x^2 dx}{x^3}dx$. How do you compute this limit by hand? Did you get the same result?"
      ],
      "metadata": {
        "id": "Z-J9ChtbuPm7"
      }
    },
    {
      "cell_type": "code",
      "source": [
        "sym.limit(sym.integrate(x**2,x)/x**3 , x, sym.oo)"
      ],
      "metadata": {
        "id": "OVwBQCsfvCJS"
      },
      "execution_count": null,
      "outputs": []
    },
    {
      "cell_type": "markdown",
      "source": [
        "### Another useful thing to do in computational math is to use the `for` loop. In general, it is not a good idea to have several entangled for loops. If you have taken 208 (linear algebra), try to vectorize your computation.\n",
        "\n",
        "Here is an example:"
      ],
      "metadata": {
        "id": "AIyhyeFTZ4g5"
      }
    },
    {
      "cell_type": "code",
      "source": [
        "sumNatural = 0\n",
        "for i in range(101):\n",
        "    sumNatural += i\n",
        "print(sumNatural)"
      ],
      "metadata": {
        "id": "xDKe7Iz2aVUj"
      },
      "execution_count": null,
      "outputs": []
    },
    {
      "cell_type": "markdown",
      "source": [
        "Exercise: write your own `for` loop to print numbers between 200 and 300."
      ],
      "metadata": {
        "id": "AGaV-1ufaYeW"
      }
    },
    {
      "cell_type": "code",
      "source": [
        "# Enter code here"
      ],
      "metadata": {
        "id": "HHppOvNSaePV"
      },
      "execution_count": null,
      "outputs": []
    }
  ]
}