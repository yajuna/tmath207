{
  "nbformat": 4,
  "nbformat_minor": 0,
  "metadata": {
    "colab": {
      "provenance": [],
      "include_colab_link": true
    },
    "kernelspec": {
      "name": "python3",
      "display_name": "Python 3"
    },
    "language_info": {
      "name": "python"
    }
  },
  "cells": [
    {
      "cell_type": "markdown",
      "metadata": {
        "id": "view-in-github",
        "colab_type": "text"
      },
      "source": [
        "<a href=\"https://colab.research.google.com/github/yajuna/tmath207/blob/master/Week2_SlopeField.ipynb\" target=\"_parent\"><img src=\"https://colab.research.google.com/assets/colab-badge.svg\" alt=\"Open In Colab\"/></a>"
      ]
    },
    {
      "cell_type": "markdown",
      "source": [
        "## This lab plays with drawing slope fields with Python.\n",
        "\n",
        "For any first order DE $dy/dt = f(t,y)$, wether it is solvable by analytical methods or not, we can always obtain a lot of information of $dy/dt$ by plotting the right hand side function $f(t,y)$ in a slope field.  \n",
        "\n",
        "A slope field for $dy/dt = f(t,y)$ is a field of arrows of slope $f(t_i,y_i)$ thru each point $(t_i,y_i)$ on the $ty$-plane."
      ],
      "metadata": {
        "id": "7jxEW21aLdJ9"
      }
    },
    {
      "cell_type": "code",
      "execution_count": null,
      "metadata": {
        "id": "qiqyCIbtKhoW"
      },
      "outputs": [],
      "source": [
        "## import packages\n",
        "import numpy as np\n",
        "import matplotlib.pyplot as plt\n",
        "from sympy import Function, dsolve, Eq, Derivative, sin, cos, symbols, sqrt, Abs\n",
        "from scipy import *\n",
        "from scipy import integrate\n",
        "from scipy.integrate import ode"
      ]
    },
    {
      "cell_type": "markdown",
      "source": [
        "We plot the slope field for the spruce-budworm equation (models population of some pests, with the effect of predation by birds)\n",
        "$$dy/dt=ry\\big(1-\\frac{y}{N}\\big)-\\frac{ay^2}{b^2+y^2}.$$\n",
        "Here $r,\\ N,\\ a,\\ b$ are parameters, and we take them to be $r=0.2,\\ N=1, a=0.3,\\ b=1$."
      ],
      "metadata": {
        "id": "7B7vJJwGLwic"
      }
    },
    {
      "cell_type": "markdown",
      "source": [
        "### Define the right hand side function"
      ],
      "metadata": {
        "id": "9o0KLIqeMFBa"
      }
    },
    {
      "cell_type": "code",
      "source": [
        "## define right hand side function -> def rhs():\n",
        "## You can use **kwargs in the function parameters to let your functions take an arbitrary number of keyword arguments (\"kwargs\" means \"keyword arguments\"):\n",
        "def rhs(**kwargs):\n",
        "  # define variables\n",
        "  # we can get the variables from kwargs using the get() method.\n",
        "  y = kwargs.get('y')\n",
        "  r = kwargs.get('r')\n",
        "  N = kwargs.get('N')\n",
        "  b = kwargs.get('b')\n",
        "  a = kwargs.get('a')\n",
        "  # we return our numerical function\n",
        "  return r * y * (1 - y/N) - a * y**2/(b**2 + y**2)"
      ],
      "metadata": {
        "id": "imjxJtTMMETR"
      },
      "execution_count": null,
      "outputs": []
    },
    {
      "cell_type": "markdown",
      "source": [
        "## This cell plots the slope field for the solutions. A reference is found here: [https://stackoverflow.com/questions/18832763/drawing-directions-fields](https://stackoverflow.com/questions/18832763/drawing-directions-fields)"
      ],
      "metadata": {
        "id": "VkiYbnRJMUdD"
      }
    },
    {
      "cell_type": "code",
      "source": [
        "def plot_function(func, **kwargs):\n",
        "  ## plot slope field\n",
        "  # make image\n",
        "  fig = plt.figure(num=1)\n",
        "  ax=fig.add_subplot(111)\n",
        "  ax.set_title('Slope field')\n",
        "\n",
        "  ## time spans from 0 to 30, total sample point is 20; y goes up to 1, total sample point is 20.\n",
        "  t = np.linspace(0,30,20)\n",
        "  y = np.linspace(-5,5,20)\n",
        "  T,Y = np.meshgrid(t,y)\n",
        "\n",
        "  ## define slope field. At each point,the slope is given by (1,rhs).\n",
        "  U1 = 1.0\n",
        "  V1 = func(y=Y,**kwargs)\n",
        "  ## normalize to make slope vectors with length 1.\n",
        "  norm = np.sqrt(U1**2 + V1**2)\n",
        "  U,V = U1/norm, V1/norm\n",
        "\n",
        "  ## plot\n",
        "  ax.quiver(T, Y, U, V)\n",
        "\n",
        "  plt.xlabel(r\"$t$\")\n",
        "  plt.ylabel(r\"$y$\")\n",
        "  plt.show()\n",
        "\n",
        "\n",
        "##########"
      ],
      "metadata": {
        "id": "_tplIfzwMUHV"
      },
      "execution_count": null,
      "outputs": []
    },
    {
      "cell_type": "code",
      "source": [
        "# we can pass in values using the variables we defined.\n",
        "plot_function(rhs, r=0.2, N=1, a=0.3, b=1)"
      ],
      "metadata": {
        "id": "EDUNl-7mPUoN"
      },
      "execution_count": null,
      "outputs": []
    },
    {
      "cell_type": "markdown",
      "source": [
        "### Exercise\n",
        "\n",
        "Modify the above code, and plot your own slope field, for $r=0.2,\\ N=1, a=0.4,\\ b=2$."
      ],
      "metadata": {
        "id": "BC9OgdGiM1Mv"
      }
    },
    {
      "cell_type": "markdown",
      "source": [
        "### Exercise\n",
        "\n",
        "Plot your own slope field, for $dy/dt=y(1-y)(1+y)$. Your right hand side function has been defined already."
      ],
      "metadata": {
        "id": "kaT4SxJUP65K"
      }
    },
    {
      "cell_type": "code",
      "source": [
        "def rhs(**kwargs):\n",
        "  # define variables\n",
        "  y = kwargs.get('y')\n",
        "  # we return our numerical function\n",
        "  return y*(1-y)*(1+y)"
      ],
      "metadata": {
        "id": "EZdLtP0JIpqC"
      },
      "execution_count": null,
      "outputs": []
    },
    {
      "cell_type": "code",
      "source": [
        "## add your own code here"
      ],
      "metadata": {
        "id": "hlSOM_MLB7hO"
      },
      "execution_count": null,
      "outputs": []
    },
    {
      "cell_type": "markdown",
      "source": [
        "##Existence\n",
        "\n",
        "For $y'=\\frac{1}{x}, y(0) = 0$, Notice that the solution does not exist at x=0. We can verify this by plotting the equation after solving it. Run the code to observe the solutions, you do not need to write your own code.\n",
        "\n"
      ],
      "metadata": {
        "id": "5xYp04rnKg3p"
      }
    },
    {
      "cell_type": "code",
      "source": [
        "x = symbols('x')\n",
        "y = Function('y')(x)\n",
        "general_solution = dsolve(Eq(y.diff(), 1/x)) # solves y' = 1/x\n",
        "C1 = symbols('C1')\n",
        "sol_expr = general_solution.rhs.subs(C1, 0)  # y = log(x) + C_1, for example we replace C_1 with 0.\n",
        "f = lambda x_vals: np.log(np.abs(x_vals)) # we utilize a lambda function as a way to quickly define a function\n",
        "\n",
        "x_vals = np.linspace(0.0001, 6, 400)  # avoid x=0 due to discontinuity\n",
        "y_vals = f(x_vals)\n",
        "\n",
        "\n",
        "x_pos = np.linspace(0.1, 5, 400)\n",
        "x_neg = np.linspace(-5, -0.1, 400)\n",
        "\n",
        "C_values = [-2, -1, 0, 1, 2]\n",
        "\n",
        "for C in C_values:\n",
        "    y_pos = np.log(x_pos) + C\n",
        "    y_neg = np.log(-x_neg) + C\n",
        "    plt.plot(x_pos, y_pos, label=f'C = {C}')\n",
        "    plt.plot(x_neg, y_neg, linestyle='solid')\n",
        "\n",
        "plt.title('Family of Solutions to dy/dx = 1/x')\n",
        "plt.xlabel('x')\n",
        "plt.ylabel('y')\n",
        "plt.axvline(0, color='gray', linestyle=':')  # asymptote at x=0\n",
        "plt.grid(True)\n",
        "plt.legend()\n",
        "plt.show()"
      ],
      "metadata": {
        "id": "1tDDx0yDJLcm"
      },
      "execution_count": null,
      "outputs": []
    }
  ]
}