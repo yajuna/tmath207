{
  "nbformat": 4,
  "nbformat_minor": 0,
  "metadata": {
    "colab": {
      "provenance": [],
      "include_colab_link": true
    },
    "kernelspec": {
      "name": "python3",
      "display_name": "Python 3"
    },
    "language_info": {
      "name": "python"
    }
  },
  "cells": [
    {
      "cell_type": "markdown",
      "metadata": {
        "id": "view-in-github",
        "colab_type": "text"
      },
      "source": [
        "<a href=\"https://colab.research.google.com/github/yajuna/tmath207/blob/master/Week3_AutonomousEquations.ipynb\" target=\"_parent\"><img src=\"https://colab.research.google.com/assets/colab-badge.svg\" alt=\"Open In Colab\"/></a>"
      ]
    },
    {
      "cell_type": "markdown",
      "source": [
        "# In this notebook, we discuss autonomous equations of the form\n",
        "\n",
        "$dy/dt=f(y)$.\n",
        "\n",
        "The functions $f$ do not explicitly depend on $t$, and we look at the behaviours of the solutions by studying $f(y)$."
      ],
      "metadata": {
        "id": "En6KcKo4NV0c"
      }
    },
    {
      "cell_type": "code",
      "execution_count": null,
      "metadata": {
        "id": "425tGZ78M3-q"
      },
      "outputs": [],
      "source": [
        "## import packages\n",
        "import numpy as np\n",
        "import matplotlib.pyplot as plt\n",
        "import sympy as sym\n",
        "from sympy import Function, dsolve, Eq, Derivative, sin, cos, symbols, sqrt, Abs, solve, Symbol\n",
        "from scipy import *\n",
        "from scipy import integrate\n",
        "from scipy.integrate import ode\n",
        "from sympy.plotting import plot"
      ]
    },
    {
      "cell_type": "markdown",
      "source": [
        "## Recall the logistic equation from Week1 lab:\n",
        "\n",
        "## Population Models: Logistic Model\n",
        "$\\frac{dP}{dt}=0.06P-0.0004P^2$\n",
        "\n",
        "Setting the right hand side to zero, we get two equilibrium solutions: $y(t)=0$, and $y(t)=150$.\n",
        "\n",
        "Solving by hand, the family of solutions are\n",
        "$y(t)=\\frac{150P_0}{P_0 + (150 - P_0)exp(-0.06t)}$\n",
        "where we already replaced all unknown constants $C$ with $P_0$.\n",
        "\n",
        "\n",
        "### We can graph its solution curves, given a list of various initial conditions $P_0$.\n"
      ],
      "metadata": {
        "id": "_-axTaZ4QtWG"
      }
    },
    {
      "cell_type": "code",
      "source": [
        "t = symbols('t') # time in years\n",
        "P_0 = symbols('P_0') # Unknown constants to be determined\n",
        "\n",
        "# various initial conditions, P_0; will use to find C\n",
        "P_0_list = [300, 240, 210, 180, 165, 150, 130, 120, 100, 80, 60, 20, 5, 0, -5]\n",
        "\n",
        "# solution from solving the equation by hand\n",
        "solution = 150 * P_0 / (P_0 + (150 - P_0) * sym.exp(-0.06*t))\n",
        "\n",
        "plot_general = plot(solution.subs(P_0, P_0_list[0]), (t, 0, 100), xlim=[0, 100], ylim=[-100,300], ylabel='P(t)', xlabel='Years (t)',show=False, axis_center=(0,0))\n",
        "for i in range(1, len(P_0_list)):\n",
        "  plot_general.append(plot(solution.subs(P_0, P_0_list[i]), (t, 0, 100), show=False)[0])\n",
        "plot_general.show()"
      ],
      "metadata": {
        "id": "qrXcP0YYQ6Pd"
      },
      "execution_count": null,
      "outputs": []
    },
    {
      "cell_type": "markdown",
      "source": [
        "### Question: What do you observe in the solutions from the various intial conditions? What happens when the initial condition is lower than 0?\n",
        "\n",
        "Ans:"
      ],
      "metadata": {
        "id": "q-nufCSOXk6j"
      }
    },
    {
      "cell_type": "markdown",
      "source": [
        "## Example: Consider the equation\n",
        "\n",
        "$dy/dt = y(y-1)$\n",
        "\n",
        "Set right hand side equal to zero, we get the equlibrium solutions $y=0,\\ y=1$."
      ],
      "metadata": {
        "id": "ZyngT9LRNsQz"
      }
    },
    {
      "cell_type": "code",
      "source": [
        "# We defind our symbol t and function y using\n",
        "t = symbols('t')\n",
        "y = Function('y')(t)\n",
        "# We can also use the bottom to define a function y(t) as well.\n",
        "# y = symbols('y', cls=Function)(t)\n",
        "\n",
        "dydt = y.diff(t) # this gives us dy/dt\n",
        "\n",
        "eq = Eq(dydt, y * (y-1)) # dy/dt\n",
        "\n",
        "solution = dsolve(eq,y) # we solve the autonomous equation with dsolve()"
      ],
      "metadata": {
        "id": "YruzyaG2OWWM"
      },
      "execution_count": null,
      "outputs": []
    },
    {
      "cell_type": "code",
      "source": [
        "solution\n",
        "print(solution)"
      ],
      "metadata": {
        "id": "R_-zuP3RaLAb"
      },
      "execution_count": null,
      "outputs": []
    },
    {
      "cell_type": "markdown",
      "source": [
        "### Test to solve the initial condition $C_1$ by plugging in $t=0$ and $y(0)=150$"
      ],
      "metadata": {
        "id": "7yANMtYhZjpb"
      }
    },
    {
      "cell_type": "code",
      "source": [
        "# Notice, the output of solution contains a C1 so we define a variable for this.\n",
        "C1 = symbols('C1')\n",
        "# For the initial condition we set the rhs side when t = 0 C1 / (C1 - e^t) -> C1 / (C1 - 1) to 150\n",
        "init_condition = Eq(solution.rhs.subs(t, 0), 150)\n",
        "# we solve for C1.\n",
        "C1_ic = solve(init_condition, C1)[0]\n",
        "C1_ic # C1 = 150/149\n",
        "# We plug in value of C1 (C1_ic) back into the solution\n",
        "equation = Eq(solution.rhs.subs({C1:C1_ic}), 150)\n",
        "# we then plot it\n",
        "print(equation)\n",
        "plot(equation.lhs, (t,0,0.1), ylim = (-20000, 15000), title=\"Zoomed out graph\") # zoom out"
      ],
      "metadata": {
        "id": "Co2A28TaLIXQ"
      },
      "execution_count": null,
      "outputs": []
    },
    {
      "cell_type": "markdown",
      "source": [
        "## Zoomed in to see blow up near 0.006"
      ],
      "metadata": {
        "id": "VIpcJaI1VKeS"
      }
    },
    {
      "cell_type": "code",
      "source": [
        "plot(equation.lhs,  (t,0,0.01), ylim = (-200, 400), title=\"Zoomed in graph\") # zoom in"
      ],
      "metadata": {
        "id": "GCeiWhEkVIBC"
      },
      "execution_count": null,
      "outputs": []
    },
    {
      "cell_type": "markdown",
      "source": [
        "Exercise: Choose a problem from section 2.5 and solve the equation by hand, or using `dsolve` as seen above. Then plot a few solutions given different initial conditions."
      ],
      "metadata": {
        "id": "_uDH7hB2epie"
      }
    },
    {
      "cell_type": "code",
      "source": [
        "## your code"
      ],
      "metadata": {
        "id": "mLqBjKRTfTBM"
      },
      "execution_count": null,
      "outputs": []
    }
  ]
}