{
  "nbformat": 4,
  "nbformat_minor": 0,
  "metadata": {
    "colab": {
      "provenance": [],
      "include_colab_link": true
    },
    "kernelspec": {
      "name": "python3",
      "display_name": "Python 3"
    },
    "language_info": {
      "name": "python"
    }
  },
  "cells": [
    {
      "cell_type": "markdown",
      "metadata": {
        "id": "view-in-github",
        "colab_type": "text"
      },
      "source": [
        "<a href=\"https://colab.research.google.com/github/yajuna/tmath207/blob/master/Week4_NumericalSolutionsToSecondOrderDEs.ipynb\" target=\"_parent\"><img src=\"https://colab.research.google.com/assets/colab-badge.svg\" alt=\"Open In Colab\"/></a>"
      ]
    },
    {
      "cell_type": "markdown",
      "source": [
        "## This lab investigates second order differential equations, their solution and qualitative behaviors.\n",
        "\n",
        "\n",
        "We will look at two methods of solving higher order differential equations. They both have advantages and disadvantages. When doing this lab, think about the differences between the two methods, and the differences between first and second order differential equations."
      ],
      "metadata": {
        "id": "3khW7YYEMq0a"
      }
    },
    {
      "cell_type": "code",
      "execution_count": null,
      "metadata": {
        "id": "_nhYHKjCOFVy"
      },
      "outputs": [],
      "source": [
        "## import packages\n",
        "import numpy as np\n",
        "import scipy as sp\n",
        "import matplotlib\n",
        "import matplotlib.pyplot as plt\n",
        "from sympy import Symbol, symbols, Function, diff, Eq"
      ]
    },
    {
      "cell_type": "markdown",
      "source": [
        "Consider a general second order differential equation $\\frac{d^2y}{dt^2}=f(t,y,\\frac{dy}{dt})$, given the initial conditions $y(0)=\\alpha$, $y'(0)=\\beta$. We discretize the differential equation by replacing the derivatives in the following way:\n",
        "\n",
        "$$y'(t_{j+1})\\approx \\frac{y_{j+1}-y_j}{\\Delta t},$$\n",
        "and\n",
        "$$y''(t_{j+1})\\approx \\frac{y_{j+1}-2y_j+y_{j-1}}{(\\Delta t)^2},$$\n",
        "then we move all the values $y_{j+1}$ to the left hand side of the discrete equation. We get a general difference equation in the following format\n",
        "$$y_{j+1}=f(t_i,y_i,y_{j-1}).$$\n",
        "With the initial conditions $y_0=\\alpha$, and $\\frac{y_1-y_0}{\\Delta t}=\\beta$, we can solve the difference equation forward in a iterative fashion."
      ],
      "metadata": {
        "id": "5Pg3dxS3NJbt"
      }
    },
    {
      "cell_type": "markdown",
      "source": [
        "## We start by considering the constant coefficient, homogeneous problem\n",
        "\n",
        "$y''+py'+qy=0$, and initial conditions $y(0)=\\alpha$ and $y'(0)=\\beta$.\n",
        "\n",
        "We will plot solutions as $p,q,\\alpha$ and $\\beta$ change."
      ],
      "metadata": {
        "id": "TZvyQBvyNqH-"
      }
    },
    {
      "cell_type": "markdown",
      "source": [
        "## We define an interval on which the problem is solved, say [0, endt]. Take the number of steps to be N, then dt = endt/N.\n",
        "\n",
        "Run the following cells to observe solution to the above equation when $p=-3$ and $q=2$; initial conditions are chosen to be 1 and 0.\n"
      ],
      "metadata": {
        "id": "L7RvxXdyNd7p"
      }
    },
    {
      "cell_type": "code",
      "source": [
        "N = 40000\n",
        "endt = 4\n",
        "dt = (endt - 0)/N\n",
        "\n",
        "p = -3\n",
        "q = 2\n",
        "\n",
        "alpha = 1\n",
        "beta = 0\n",
        "\n",
        "y0 = alpha\n",
        "y1 = dt * beta + y0"
      ],
      "metadata": {
        "id": "_pnZLzooOcLv"
      },
      "execution_count": null,
      "outputs": []
    },
    {
      "cell_type": "code",
      "source": [
        "## give a vector valued t, and print the output\n",
        "t = np.linspace(0,endt,num = N, endpoint = False)\n",
        "\n",
        "## make a zero array to store computations\n",
        "y = np.zeros(np.size(t))\n",
        "\n",
        "y[0] = y0\n",
        "y[1] = y1"
      ],
      "metadata": {
        "id": "1YV5eQX6OeZi"
      },
      "execution_count": null,
      "outputs": []
    },
    {
      "cell_type": "code",
      "source": [
        "# (y2 - 2*y1 + y0)/dt**2 + p * (y1 - y0)/dt + q * y1 = 0\n",
        "# (y2 - 2 * y1 + y0) + p * dt * (y1 - y0) + q * dt^2 * y1 = 0\n",
        "# y2 = 2 * y1 - y0 - p * dt * (y1 - y0) - q * dt^2 * y1\n",
        "\n",
        "for i in range(1, np.size(t)-1):\n",
        "    y[i+1] = 2 * y[i] - y[i-1] - p * dt * (y[i] - y[i-1]) - q * y[i] * dt ** 2"
      ],
      "metadata": {
        "id": "3lL7kj6rQ1kz"
      },
      "execution_count": null,
      "outputs": []
    },
    {
      "cell_type": "code",
      "source": [
        "## visualize the numerical solutions: discrete data points\n",
        "plt.plot(t, y, '.r-')\n",
        "plt.title('Second order equation with number of steps: N=%i' %N)\n",
        "plt.show()"
      ],
      "metadata": {
        "id": "CJfyureJSB9f"
      },
      "execution_count": null,
      "outputs": []
    },
    {
      "cell_type": "markdown",
      "source": [
        "## We pick values of the above parameters to test the behavior of the IVP.\n",
        "\n",
        "Run the code below and observe the solution when the values $p$ and $q$ are changed; notice we also change initial conditions."
      ],
      "metadata": {
        "id": "V0w2Uy47R4Dr"
      }
    },
    {
      "cell_type": "code",
      "source": [
        "# Function for numericalSolution. It plots the numerical solution as well.\n",
        "# Accepts p, q, alpha, and beta.\n",
        "def numericalSolution(**kwargs):\n",
        "    p = kwargs.get('p')\n",
        "    q = kwargs.get('q')\n",
        "    alpha = kwargs.get('alpha')\n",
        "    beta = kwargs.get('beta')\n",
        "    N = 40000\n",
        "    endt = 4\n",
        "    dt = (endt - 0)/N\n",
        "    y0 = alpha\n",
        "    y1 = dt * beta + y0\n",
        "    ## give a vector valued t, and print the output\n",
        "    t = np.linspace(0,endt,num = N, endpoint = False)\n",
        "\n",
        "    ## make a zero array to store computations\n",
        "    y = np.zeros(np.size(t))\n",
        "\n",
        "    y[0] = y0\n",
        "    y[1] = y1\n",
        "    # y2 = 2 * y1 - y0 - p * dt * (y1 - y0) - q * dt^2 * y1\n",
        "\n",
        "    for i in range(1, np.size(t)-1):\n",
        "        y[i+1] = 2 * y[i] - y[i-1] - p * dt * (y[i] - y[i-1]) - q * y[i] * dt ** 2\n",
        "\n",
        "    ## visualize the numerical solutions: discrete data points\n",
        "    plt.plot(t, y, '.r-')\n",
        "    plt.title('Second order equation with number of steps: N=%i' %N)\n",
        "    plt.show()"
      ],
      "metadata": {
        "id": "gvOLUnGsPjJn"
      },
      "execution_count": null,
      "outputs": []
    },
    {
      "cell_type": "code",
      "source": [
        "numericalSolution(p=10, q=5, alpha=2, beta=2)"
      ],
      "metadata": {
        "id": "na1_xmb8L2gC"
      },
      "execution_count": null,
      "outputs": []
    },
    {
      "cell_type": "markdown",
      "source": [
        "## Exercise:\n",
        "\n",
        "Change the values of $p$ and $q$ so that you have roots of different signs. Observe the different behaviors of the solution.\n"
      ],
      "metadata": {
        "id": "G8AE1Sr4Tmj8"
      }
    },
    {
      "cell_type": "code",
      "source": [
        "# Uncomment the function call below and change the values of p, q, alpha, beta\n",
        "#numericalSolution(p=-3, q=2, alpha=1, beta=0)"
      ],
      "metadata": {
        "id": "whLUkbDSTy6k"
      },
      "execution_count": null,
      "outputs": []
    },
    {
      "cell_type": "markdown",
      "source": [
        "We consider the *nonlinear* equation $\\frac{d^2y}{dt^2}=(1-y^2)\\frac{dy}{dt}-y$, with initial conditions $y(0)=1$, $y'(0)=-1$, and solve the IVP on time interval $[0,4]$.\n",
        "\n",
        "Notice this is not a problem that we can solve analytically.\n",
        "\n",
        "Run the cells below and observe the solution to the initial value problem."
      ],
      "metadata": {
        "id": "p4kJLTTTNj62"
      }
    },
    {
      "cell_type": "code",
      "source": [
        "## give a vector valued t, and print the output\n",
        "t = np.linspace(0,endt,num = N, endpoint = False)\n",
        "\n",
        "## make a zero array to store computations\n",
        "\n",
        "y = np.zeros(np.size(t))\n",
        "\n",
        "## initial condition y0 = 1 y'0 = -1\n",
        "\n",
        "y[0] = 1\n",
        "y[1] = -1*dt + y[0]"
      ],
      "metadata": {
        "id": "jV11JjmiUQra"
      },
      "execution_count": null,
      "outputs": []
    },
    {
      "cell_type": "code",
      "source": [
        "## discretize the DE. y_1 for next step, y_0 for current\n",
        "## step, y_-1 for previous step\n",
        "## (y_1 - 2y_0 + y_-1)/dt**2 = (1 - y_0**2) * (y_0 - y_-1)/dt - y_0\n",
        "\n",
        "## iterative step for computing the unknown value y\n",
        "for i in range(1, np.size(t)-1):\n",
        "    y[i+1] = dt * (1 - y[i] ** 2) * (y[i] - y[i-1]) - dt ** 2 * y[i] + 2 * y[i] - y[i-1]"
      ],
      "metadata": {
        "id": "kqqA-o2FUI94"
      },
      "execution_count": null,
      "outputs": []
    },
    {
      "cell_type": "code",
      "source": [
        "## visualize the numerical solutions: discrete data points\n",
        "plt.plot(t, y, '.r-')\n",
        "plt.title('Second order equation with number of steps: N=%i' %N)\n",
        "plt.show()"
      ],
      "metadata": {
        "id": "3JlbzyE5UMWR"
      },
      "execution_count": null,
      "outputs": []
    },
    {
      "cell_type": "markdown",
      "source": [
        "## Exericse:\n",
        "\n",
        "Change N to 40, 400, and 4000. Run above cells, and plot the images for each. Observe changes in the solution curves with varying N"
      ],
      "metadata": {
        "id": "PMxGuyRQUhEw"
      }
    },
    {
      "cell_type": "code",
      "source": [
        "## This is a function that takes in a value for N.\n",
        "def TestN(**kwargs):\n",
        "  N = kwargs.get(\"N\")\n",
        "  ## give a vector valued t, and print the output\n",
        "  endt = 4\n",
        "  dt = (endt - 0)/N\n",
        "  t = np.linspace(0,endt,num = N, endpoint = False)\n",
        "\n",
        "  ## make a zero array to store computations\n",
        "\n",
        "  y = np.zeros(np.size(t))\n",
        "\n",
        "  ## initial condition y0 = 1 y'0 = -1\n",
        "\n",
        "  y[0] = 1\n",
        "  y[1] = -1*dt + y[0]\n",
        "\n",
        "  ## (y_1 - 2y_0 + y_-1)/dt**2 = (1 - y_0**2) * (y_0 - y_-1)/dt - y_0\n",
        "\n",
        "  ## iterative step for computing the unknown value y\n",
        "  for i in range(1, np.size(t)-1):\n",
        "      y[i+1] = dt * (1 - y[i] ** 2) * (y[i] - y[i-1]) - dt ** 2 * y[i] + 2 * y[i] - y[i-1]\n",
        "\n",
        "  plt.plot(t, y, '.r-')\n",
        "  plt.title('Second order equation with number of steps: N=%i' %N)\n",
        "  plt.show()\n",
        "\n",
        "  print(f\"{y[-1]}\")\n",
        "  return y[-1]"
      ],
      "metadata": {
        "id": "sWvSXI65LvMT"
      },
      "execution_count": null,
      "outputs": []
    },
    {
      "cell_type": "code",
      "source": [
        "# The function is called with a value being assigned to N\n",
        "TestN(N=40000)"
      ],
      "metadata": {
        "id": "K8sdVAPOUxf5"
      },
      "execution_count": null,
      "outputs": []
    },
    {
      "cell_type": "markdown",
      "source": [
        "### Optional: In the following part, we consider a BVP (boundary value problem) where the conditions on the unknown function are imposed at two separate locations.\n",
        "\n",
        "$u''(x)=f(x)$\n",
        "\n",
        "$u(0)=\\alpha,\\ u(1)=\\beta$\n",
        "\n",
        "### We define the length of our vector to be\n",
        "\n",
        "### The variable $m$\n",
        "\n",
        "### and the distance between grid points to be\n",
        "\n",
        "$\\frac{1}{m+1}$.\n",
        "\n",
        "### We solve for U by building the matrix A and F. We have a linear system of m equations for the m unknowns, which can be written in the form\n",
        "\n",
        "$AU = F$\n"
      ],
      "metadata": {
        "id": "1vceD1q0cYMj"
      }
    },
    {
      "cell_type": "code",
      "source": [
        "def bvp(\n",
        "    alpha, # boundary condition u(0)\n",
        "    beta,  # boundary condition u(1)\n",
        "    m,     # length of vector U is m + 2\n",
        "    f      # our function\n",
        "    ):\n",
        "\n",
        "  h = 1 / (m+1) # mesh width (distance between grid points)\n",
        "\n",
        "  # Building matrix A\n",
        "\n",
        "\n",
        "  A = np.zeros((m, m))\n",
        "\n",
        "  np.fill_diagonal(A, -2)\n",
        "  for i in range(m-1):\n",
        "    A[i, i+1] = 1\n",
        "    A[i+1, i] = 1\n",
        "\n",
        "  # Building matrix F\n",
        "\n",
        "  F = np.array([f((j+1) * h) for j in range(m)])\n",
        "\n",
        "  F[0] -= alpha / h**2\n",
        "  F[-1] -= beta / h**2\n",
        "\n",
        "  # Solves for U where U = A^-1F\n",
        "\n",
        "  U = np.linalg.solve(A, F)\n",
        "\n",
        "  U = np.concatenate(([alpha], U, [beta]))\n",
        "  # Define the x-axis based on the array length\n",
        "  x = np.linspace(0, 1, len(U))  # Assuming the domain is [0,1]\n",
        "\n",
        "  # Plot\n",
        "  plt.plot(x, U, marker='o', linestyle='-')\n",
        "  plt.title(\"Solution to the BVP\")\n",
        "  plt.xlabel(\"x\")\n",
        "  plt.ylabel(\"u(x)\")\n",
        "  plt.grid(True)\n",
        "  plt.show()\n",
        "  return U\n",
        "\n",
        "# sample function\n",
        "\n",
        "def f(x):\n",
        "  return 2 * np.pi**2 + 1\n",
        "\n",
        "\n",
        "\n",
        "U = bvp(1,5, 10, f)"
      ],
      "metadata": {
        "id": "jfwtcET_Dst6"
      },
      "execution_count": null,
      "outputs": []
    },
    {
      "cell_type": "code",
      "source": [],
      "metadata": {
        "id": "Gp-DmmgPSJRm"
      },
      "execution_count": null,
      "outputs": []
    }
  ]
}